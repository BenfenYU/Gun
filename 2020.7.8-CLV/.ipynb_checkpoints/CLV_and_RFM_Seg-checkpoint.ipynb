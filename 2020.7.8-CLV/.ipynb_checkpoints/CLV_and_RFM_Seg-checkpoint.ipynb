{
 "cells": [
  {
   "cell_type": "markdown",
   "metadata": {
    "colab_type": "text",
    "id": "q4IR39heGG2E"
   },
   "source": [
    "## **CLV and RFM Seg** \n",
    "\n",
    "Scott\n",
    "\n",
    "2020- 06- 12\n",
    "\n"
   ]
  },
  {
   "cell_type": "markdown",
   "metadata": {
    "colab_type": "text",
    "id": "iNkpZ5ZUF9B5"
   },
   "source": [
    "# Know the Metrics - Exploring the Data"
   ]
  },
  {
   "cell_type": "code",
   "execution_count": 34,
   "metadata": {
    "colab": {},
    "colab_type": "code",
    "id": "yi-fS_NciozY"
   },
   "outputs": [],
   "source": [
    "from __future__ import division\n",
    "from datetime import datetime, timedelta\n",
    "import pandas as pd\n",
    "%matplotlib inline\n",
    "import numpy as np\n",
    "from sklearn.cluster import KMeans\n",
    "import matplotlib.pyplot as plt"
   ]
  },
  {
   "cell_type": "code",
   "execution_count": 27,
   "metadata": {
    "colab": {
     "base_uri": "https://localhost:8080/",
     "height": 136
    },
    "colab_type": "code",
    "id": "nAjJkU4xP2WD",
    "outputId": "0a9774e5-d517-4001-c1fb-994a71d658fa",
    "tags": []
   },
   "outputs": [
    {
     "name": "stdout",
     "output_type": "stream",
     "text": [
      "% Total    % Received % Xferd  Average Speed   Time    Time     Time  Current\n",
      "                                 Dload  Upload   Total   Spent    Left  Speed\n",
      "  0     0    0     0    0     0      0      0 --:--:--  0:00:33 --:--:--     0^C\n"
     ]
    }
   ],
   "source": [
    "! curl https://www.dropbox.com/s/4kb9c0xy84i1obv/data_retail.csv?dl=1 -O -J -L"
   ]
  },
  {
   "cell_type": "code",
   "execution_count": 35,
   "metadata": {
    "colab": {
     "base_uri": "https://localhost:8080/",
     "height": 419
    },
    "colab_type": "code",
    "id": "qu5jTYCm2625",
    "outputId": "e8fcbc92-fd43-4651-bf1b-55c81ddf9612"
   },
   "outputs": [
    {
     "data": {
      "text/html": [
       "<div>\n",
       "<style scoped>\n",
       "    .dataframe tbody tr th:only-of-type {\n",
       "        vertical-align: middle;\n",
       "    }\n",
       "\n",
       "    .dataframe tbody tr th {\n",
       "        vertical-align: top;\n",
       "    }\n",
       "\n",
       "    .dataframe thead th {\n",
       "        text-align: right;\n",
       "    }\n",
       "</style>\n",
       "<table border=\"1\" class=\"dataframe\">\n",
       "  <thead>\n",
       "    <tr style=\"text-align: right;\">\n",
       "      <th></th>\n",
       "      <th>invoice_no</th>\n",
       "      <th>quantity</th>\n",
       "      <th>invoice_date</th>\n",
       "      <th>unit_price</th>\n",
       "      <th>customer_id</th>\n",
       "      <th>cogs</th>\n",
       "      <th>country</th>\n",
       "    </tr>\n",
       "  </thead>\n",
       "  <tbody>\n",
       "    <tr>\n",
       "      <th>0</th>\n",
       "      <td>536365</td>\n",
       "      <td>1</td>\n",
       "      <td>12/1/2010 8:26</td>\n",
       "      <td>326</td>\n",
       "      <td>17850</td>\n",
       "      <td>156.48</td>\n",
       "      <td>United Kingdom</td>\n",
       "    </tr>\n",
       "    <tr>\n",
       "      <th>1</th>\n",
       "      <td>536365</td>\n",
       "      <td>2</td>\n",
       "      <td>12/1/2010 8:26</td>\n",
       "      <td>349</td>\n",
       "      <td>17850</td>\n",
       "      <td>132.62</td>\n",
       "      <td>United Kingdom</td>\n",
       "    </tr>\n",
       "    <tr>\n",
       "      <th>2</th>\n",
       "      <td>536365</td>\n",
       "      <td>1</td>\n",
       "      <td>12/1/2010 8:26</td>\n",
       "      <td>334</td>\n",
       "      <td>17850</td>\n",
       "      <td>123.58</td>\n",
       "      <td>United Kingdom</td>\n",
       "    </tr>\n",
       "    <tr>\n",
       "      <th>3</th>\n",
       "      <td>536365</td>\n",
       "      <td>1</td>\n",
       "      <td>12/1/2010 8:26</td>\n",
       "      <td>207</td>\n",
       "      <td>17850</td>\n",
       "      <td>72.45</td>\n",
       "      <td>United Kingdom</td>\n",
       "    </tr>\n",
       "    <tr>\n",
       "      <th>4</th>\n",
       "      <td>536365</td>\n",
       "      <td>2</td>\n",
       "      <td>12/1/2010 8:26</td>\n",
       "      <td>230</td>\n",
       "      <td>17850</td>\n",
       "      <td>80.50</td>\n",
       "      <td>United Kingdom</td>\n",
       "    </tr>\n",
       "    <tr>\n",
       "      <th>...</th>\n",
       "      <td>...</td>\n",
       "      <td>...</td>\n",
       "      <td>...</td>\n",
       "      <td>...</td>\n",
       "      <td>...</td>\n",
       "      <td>...</td>\n",
       "      <td>...</td>\n",
       "    </tr>\n",
       "    <tr>\n",
       "      <th>273113</th>\n",
       "      <td>548134</td>\n",
       "      <td>2</td>\n",
       "      <td>7/21/2011 9:30</td>\n",
       "      <td>466</td>\n",
       "      <td>21572</td>\n",
       "      <td>172.42</td>\n",
       "      <td>United Kingdom</td>\n",
       "    </tr>\n",
       "    <tr>\n",
       "      <th>273114</th>\n",
       "      <td>549461</td>\n",
       "      <td>2</td>\n",
       "      <td>7/21/2011 9:31</td>\n",
       "      <td>390</td>\n",
       "      <td>21002</td>\n",
       "      <td>191.10</td>\n",
       "      <td>United Kingdom</td>\n",
       "    </tr>\n",
       "    <tr>\n",
       "      <th>273115</th>\n",
       "      <td>532726</td>\n",
       "      <td>2</td>\n",
       "      <td>7/21/2011 9:31</td>\n",
       "      <td>334</td>\n",
       "      <td>18907</td>\n",
       "      <td>160.32</td>\n",
       "      <td>United Kingdom</td>\n",
       "    </tr>\n",
       "    <tr>\n",
       "      <th>273116</th>\n",
       "      <td>547665</td>\n",
       "      <td>2</td>\n",
       "      <td>7/21/2011 9:31</td>\n",
       "      <td>311</td>\n",
       "      <td>21122</td>\n",
       "      <td>155.50</td>\n",
       "      <td>United Kingdom</td>\n",
       "    </tr>\n",
       "    <tr>\n",
       "      <th>273117</th>\n",
       "      <td>535738</td>\n",
       "      <td>1</td>\n",
       "      <td>7/21/2011 9:31</td>\n",
       "      <td>421</td>\n",
       "      <td>18732</td>\n",
       "      <td>181.03</td>\n",
       "      <td>United Kingdom</td>\n",
       "    </tr>\n",
       "  </tbody>\n",
       "</table>\n",
       "<p>273118 rows × 7 columns</p>\n",
       "</div>"
      ],
      "text/plain": [
       "       invoice_no  quantity    invoice_date  unit_price  customer_id    cogs  \\\n",
       "0          536365         1  12/1/2010 8:26         326        17850  156.48   \n",
       "1          536365         2  12/1/2010 8:26         349        17850  132.62   \n",
       "2          536365         1  12/1/2010 8:26         334        17850  123.58   \n",
       "3          536365         1  12/1/2010 8:26         207        17850   72.45   \n",
       "4          536365         2  12/1/2010 8:26         230        17850   80.50   \n",
       "...           ...       ...             ...         ...          ...     ...   \n",
       "273113     548134         2  7/21/2011 9:30         466        21572  172.42   \n",
       "273114     549461         2  7/21/2011 9:31         390        21002  191.10   \n",
       "273115     532726         2  7/21/2011 9:31         334        18907  160.32   \n",
       "273116     547665         2  7/21/2011 9:31         311        21122  155.50   \n",
       "273117     535738         1  7/21/2011 9:31         421        18732  181.03   \n",
       "\n",
       "               country  \n",
       "0       United Kingdom  \n",
       "1       United Kingdom  \n",
       "2       United Kingdom  \n",
       "3       United Kingdom  \n",
       "4       United Kingdom  \n",
       "...                ...  \n",
       "273113  United Kingdom  \n",
       "273114  United Kingdom  \n",
       "273115  United Kingdom  \n",
       "273116  United Kingdom  \n",
       "273117  United Kingdom  \n",
       "\n",
       "[273118 rows x 7 columns]"
      ]
     },
     "execution_count": 35,
     "metadata": {},
     "output_type": "execute_result"
    }
   ],
   "source": [
    "retail_data = pd.read_csv(\"Section 6 Project Dataset_ data_retail.csv\")\n",
    "retail_data"
   ]
  },
  {
   "cell_type": "code",
   "execution_count": 36,
   "metadata": {
    "colab": {
     "base_uri": "https://localhost:8080/",
     "height": 297
    },
    "colab_type": "code",
    "id": "_9CeQcJB8j8d",
    "outputId": "ead64e6d-ee6f-403e-a28a-69c5e9a150f7"
   },
   "outputs": [
    {
     "data": {
      "text/html": [
       "<div>\n",
       "<style scoped>\n",
       "    .dataframe tbody tr th:only-of-type {\n",
       "        vertical-align: middle;\n",
       "    }\n",
       "\n",
       "    .dataframe tbody tr th {\n",
       "        vertical-align: top;\n",
       "    }\n",
       "\n",
       "    .dataframe thead th {\n",
       "        text-align: right;\n",
       "    }\n",
       "</style>\n",
       "<table border=\"1\" class=\"dataframe\">\n",
       "  <thead>\n",
       "    <tr style=\"text-align: right;\">\n",
       "      <th></th>\n",
       "      <th>invoice_year_month</th>\n",
       "      <th>revenue</th>\n",
       "    </tr>\n",
       "  </thead>\n",
       "  <tbody>\n",
       "    <tr>\n",
       "      <th>0</th>\n",
       "      <td>201012</td>\n",
       "      <td>22340103</td>\n",
       "    </tr>\n",
       "    <tr>\n",
       "      <th>1</th>\n",
       "      <td>201101</td>\n",
       "      <td>18458630</td>\n",
       "    </tr>\n",
       "    <tr>\n",
       "      <th>2</th>\n",
       "      <td>201102</td>\n",
       "      <td>14594349</td>\n",
       "    </tr>\n",
       "    <tr>\n",
       "      <th>3</th>\n",
       "      <td>201103</td>\n",
       "      <td>19280648</td>\n",
       "    </tr>\n",
       "    <tr>\n",
       "      <th>4</th>\n",
       "      <td>201104</td>\n",
       "      <td>15690864</td>\n",
       "    </tr>\n",
       "    <tr>\n",
       "      <th>5</th>\n",
       "      <td>201105</td>\n",
       "      <td>19444110</td>\n",
       "    </tr>\n",
       "    <tr>\n",
       "      <th>6</th>\n",
       "      <td>201106</td>\n",
       "      <td>19327663</td>\n",
       "    </tr>\n",
       "    <tr>\n",
       "      <th>7</th>\n",
       "      <td>201107</td>\n",
       "      <td>14292149</td>\n",
       "    </tr>\n",
       "  </tbody>\n",
       "</table>\n",
       "</div>"
      ],
      "text/plain": [
       "   invoice_year_month   revenue\n",
       "0              201012  22340103\n",
       "1              201101  18458630\n",
       "2              201102  14594349\n",
       "3              201103  19280648\n",
       "4              201104  15690864\n",
       "5              201105  19444110\n",
       "6              201106  19327663\n",
       "7              201107  14292149"
      ]
     },
     "execution_count": 36,
     "metadata": {},
     "output_type": "execute_result"
    }
   ],
   "source": [
    "# Calcualate Revenue\n",
    "retail_data['invoice_date'] = pd.to_datetime(retail_data['invoice_date'])\n",
    "\n",
    "retail_data['invoice_year_month'] = retail_data['invoice_date'].map(lambda date: 100*date.year + date.month)\n",
    "\n",
    "retail_data['revenue'] = retail_data['unit_price'] * retail_data['quantity']\n",
    "revenue = retail_data.groupby(['invoice_year_month'])['revenue'].sum().reset_index()\n",
    "revenue"
   ]
  },
  {
   "cell_type": "markdown",
   "metadata": {
    "colab_type": "text",
    "id": "uqbARhqtGecz"
   },
   "source": [
    "## Calculate the Metrics"
   ]
  },
  {
   "cell_type": "code",
   "execution_count": 37,
   "metadata": {
    "colab": {},
    "colab_type": "code",
    "id": "oTptS2I5GrWZ"
   },
   "outputs": [
    {
     "data": {
      "image/png": "[encoded data removed]",
      "text/plain": [
       "<Figure size 432x288 with 1 Axes>"
      ]
     },
     "metadata": {
      "needs_background": "light"
     },
     "output_type": "display_data"
    }
   ],
   "source": [
    "# Calculate the AVO \n",
    "g = retail_data.groupby(['invoice_year_month'])\n",
    "reve = g['revenue'].sum() \n",
    "no = g['invoice_no'].nunique()\n",
    "AOV = reve / no\n",
    "AOV.values\n",
    "# plot the trend (monthly)\n",
    "plt.figure()\n",
    "plt.plot(AOV.values)\n",
    "plt.xlabel(\"Time(monthly)\")\n",
    "plt.ylabel(\"AOV\")\n",
    "plt.show()"
   ]
  },
  {
   "cell_type": "code",
   "execution_count": 38,
   "metadata": {
    "colab": {},
    "colab_type": "code",
    "id": "fG8iKNvQGrg8"
   },
   "outputs": [
    {
     "data": {
      "image/png": "[encoded data removed]",
      "text/plain": [
       "<Figure size 432x288 with 1 Axes>"
      ]
     },
     "metadata": {
      "needs_background": "light"
     },
     "output_type": "display_data"
    }
   ],
   "source": [
    "# Calculate the purchase frequency\n",
    "g = retail_data.groupby(['invoice_year_month'])\n",
    "total_order = g['invoice_no'].nunique() \n",
    "total_cid = g['customer_id'].nunique()\n",
    "F = total_order / total_cid\n",
    "F.values\n",
    "# plot the trend (monthly)\n",
    "plt.figure()\n",
    "plt.plot(F.values)\n",
    "plt.xlabel(\"Time(monthly)\")\n",
    "plt.ylabel(\"F\")\n",
    "plt.show()"
   ]
  },
  {
   "cell_type": "code",
   "execution_count": 39,
   "metadata": {
    "colab": {},
    "colab_type": "code",
    "id": "M7ZMylAsGroZ"
   },
   "outputs": [
    {
     "data": {
      "image/png": "[encoded data removed]",
      "text/plain": [
       "<Figure size 432x288 with 1 Axes>"
      ]
     },
     "metadata": {
      "needs_background": "light"
     },
     "output_type": "display_data"
    }
   ],
   "source": [
    "# Calculate the GM\n",
    "g = retail_data.groupby(['invoice_year_month'])\n",
    "reve = g['revenue'].sum() \n",
    "cogs = g['cogs'].sum()\n",
    "gm = (reve - cogs) / reve\n",
    "gm.values\n",
    "# plot the trend (monthly)\n",
    "plt.figure()\n",
    "plt.plot(gm.values)\n",
    "plt.xlabel(\"Time(monthly)\")\n",
    "plt.ylabel(\"gm\")\n",
    "plt.show()"
   ]
  },
  {
   "cell_type": "code",
   "execution_count": 40,
   "metadata": {
    "colab": {},
    "colab_type": "code",
    "id": "3SAh-AmMG7S7"
   },
   "outputs": [
    {
     "data": {
      "image/png": "[encoded data removed]",
      "text/plain": [
       "<Figure size 432x288 with 1 Axes>"
      ]
     },
     "metadata": {
      "needs_background": "light"
     },
     "output_type": "display_data"
    }
   ],
   "source": [
    "# Calculate the Churn Rate\n",
    "g = retail_data.groupby(['invoice_year_month'])\n",
    "c_num = g['customer_id'].nunique()\n",
    "temp_1 = list(c_num.values)\n",
    "temp_2 = list(c_num.values)\n",
    "del temp_1[-1]\n",
    "temp_1.insert(0,0)\n",
    "temp_lost = np.array(temp_2) - np.array(temp_1)\n",
    "CR = temp_lost / temp_2\n",
    "CR\n",
    "# plot the trend (monthly)\n",
    "plt.figure()\n",
    "plt.plot(CR)\n",
    "plt.xlabel(\"Time(monthly)\")\n",
    "plt.ylabel(\"CR\")\n",
    "plt.show()"
   ]
  },
  {
   "cell_type": "code",
   "execution_count": 41,
   "metadata": {
    "colab": {},
    "colab_type": "code",
    "id": "o-WGYj65HAPM"
   },
   "outputs": [
    {
     "data": {
      "image/png": "[encoded data removed]",
      "text/plain": [
       "<Figure size 432x288 with 1 Axes>"
      ]
     },
     "metadata": {
      "needs_background": "light"
     },
     "output_type": "display_data"
    }
   ],
   "source": [
    "# Calculate the LTV\n",
    "LTV = AOV * F * gm / CR\n",
    "LTV\n",
    "# plot the trend (monthly)\n",
    "plt.figure()\n",
    "plt.plot(LTV.values)\n",
    "plt.xlabel(\"Time(monthly)\")\n",
    "plt.ylabel(\"LTV\")\n",
    "plt.show()"
   ]
  },
  {
   "cell_type": "markdown",
   "metadata": {
    "colab_type": "text",
    "id": "Cj6WjQ__Y6lx"
   },
   "source": [
    "# RFM Segmentation"
   ]
  },
  {
   "cell_type": "code",
   "execution_count": 42,
   "metadata": {
    "colab": {
     "base_uri": "https://localhost:8080/",
     "height": 204
    },
    "colab_type": "code",
    "id": "rl3Ph68wYYuH",
    "outputId": "721e0e81-9cd8-4263-907b-b834a97d1b21"
   },
   "outputs": [
    {
     "data": {
      "text/html": [
       "<div>\n",
       "<style scoped>\n",
       "    .dataframe tbody tr th:only-of-type {\n",
       "        vertical-align: middle;\n",
       "    }\n",
       "\n",
       "    .dataframe tbody tr th {\n",
       "        vertical-align: top;\n",
       "    }\n",
       "\n",
       "    .dataframe thead th {\n",
       "        text-align: right;\n",
       "    }\n",
       "</style>\n",
       "<table border=\"1\" class=\"dataframe\">\n",
       "  <thead>\n",
       "    <tr style=\"text-align: right;\">\n",
       "      <th></th>\n",
       "      <th>customer_id</th>\n",
       "      <th>recency</th>\n",
       "    </tr>\n",
       "  </thead>\n",
       "  <tbody>\n",
       "    <tr>\n",
       "      <th>0</th>\n",
       "      <td>17850</td>\n",
       "      <td>160</td>\n",
       "    </tr>\n",
       "    <tr>\n",
       "      <th>1</th>\n",
       "      <td>13047</td>\n",
       "      <td>12</td>\n",
       "    </tr>\n",
       "    <tr>\n",
       "      <th>2</th>\n",
       "      <td>12583</td>\n",
       "      <td>12</td>\n",
       "    </tr>\n",
       "    <tr>\n",
       "      <th>3</th>\n",
       "      <td>13748</td>\n",
       "      <td>90</td>\n",
       "    </tr>\n",
       "    <tr>\n",
       "      <th>4</th>\n",
       "      <td>15100</td>\n",
       "      <td>188</td>\n",
       "    </tr>\n",
       "  </tbody>\n",
       "</table>\n",
       "</div>"
      ],
      "text/plain": [
       "   customer_id  recency\n",
       "0        17850      160\n",
       "1        13047       12\n",
       "2        12583       12\n",
       "3        13748       90\n",
       "4        15100      188"
      ]
     },
     "execution_count": 42,
     "metadata": {},
     "output_type": "execute_result"
    }
   ],
   "source": [
    "# Recency\n",
    "user_seg = pd.DataFrame(retail_data['customer_id'].unique())\n",
    "user_seg.columns = ['customer_id']\n",
    "\n",
    "max_purchase = retail_data.groupby('customer_id').invoice_date.max().reset_index()\n",
    "max_purchase.columns = ['customer_id','max_purchase_date']\n",
    "\n",
    "max_purchase['recency'] = (max_purchase['max_purchase_date'].max() - max_purchase['max_purchase_date']).dt.days\n",
    "\n",
    "user_seg = pd.merge(user_seg, max_purchase[['customer_id','recency']], on='customer_id')\n",
    "user_seg.head()"
   ]
  },
  {
   "cell_type": "code",
   "execution_count": 43,
   "metadata": {
    "colab": {
     "base_uri": "https://localhost:8080/",
     "height": 204
    },
    "colab_type": "code",
    "id": "5dqGD936jtbX",
    "outputId": "e3f78741-411d-440d-8fff-b61f9ebb13f0"
   },
   "outputs": [
    {
     "data": {
      "text/html": [
       "<div>\n",
       "<style scoped>\n",
       "    .dataframe tbody tr th:only-of-type {\n",
       "        vertical-align: middle;\n",
       "    }\n",
       "\n",
       "    .dataframe tbody tr th {\n",
       "        vertical-align: top;\n",
       "    }\n",
       "\n",
       "    .dataframe thead th {\n",
       "        text-align: right;\n",
       "    }\n",
       "</style>\n",
       "<table border=\"1\" class=\"dataframe\">\n",
       "  <thead>\n",
       "    <tr style=\"text-align: right;\">\n",
       "      <th></th>\n",
       "      <th>customer_id</th>\n",
       "      <th>recency</th>\n",
       "      <th>frequency</th>\n",
       "    </tr>\n",
       "  </thead>\n",
       "  <tbody>\n",
       "    <tr>\n",
       "      <th>0</th>\n",
       "      <td>17850</td>\n",
       "      <td>160</td>\n",
       "      <td>312</td>\n",
       "    </tr>\n",
       "    <tr>\n",
       "      <th>1</th>\n",
       "      <td>13047</td>\n",
       "      <td>12</td>\n",
       "      <td>131</td>\n",
       "    </tr>\n",
       "    <tr>\n",
       "      <th>2</th>\n",
       "      <td>12583</td>\n",
       "      <td>12</td>\n",
       "      <td>136</td>\n",
       "    </tr>\n",
       "    <tr>\n",
       "      <th>3</th>\n",
       "      <td>13748</td>\n",
       "      <td>90</td>\n",
       "      <td>13</td>\n",
       "    </tr>\n",
       "    <tr>\n",
       "      <th>4</th>\n",
       "      <td>15100</td>\n",
       "      <td>188</td>\n",
       "      <td>6</td>\n",
       "    </tr>\n",
       "  </tbody>\n",
       "</table>\n",
       "</div>"
      ],
      "text/plain": [
       "   customer_id  recency  frequency\n",
       "0        17850      160        312\n",
       "1        13047       12        131\n",
       "2        12583       12        136\n",
       "3        13748       90         13\n",
       "4        15100      188          6"
      ]
     },
     "execution_count": 43,
     "metadata": {},
     "output_type": "execute_result"
    }
   ],
   "source": [
    "# Frequency\n",
    "frequency = retail_data.groupby('customer_id').invoice_date.count().reset_index()\n",
    "frequency.columns = ['customer_id','frequency']\n",
    "user_seg = pd.merge(user_seg, frequency, on = 'customer_id')\n",
    "user_seg.head()"
   ]
  },
  {
   "cell_type": "code",
   "execution_count": 44,
   "metadata": {
    "colab": {
     "base_uri": "https://localhost:8080/",
     "height": 204
    },
    "colab_type": "code",
    "id": "p9i2prWOjwZ7",
    "outputId": "c41f23a0-2b91-4dae-c6d9-795f9552cf8c"
   },
   "outputs": [
    {
     "data": {
      "text/html": [
       "<div>\n",
       "<style scoped>\n",
       "    .dataframe tbody tr th:only-of-type {\n",
       "        vertical-align: middle;\n",
       "    }\n",
       "\n",
       "    .dataframe tbody tr th {\n",
       "        vertical-align: top;\n",
       "    }\n",
       "\n",
       "    .dataframe thead th {\n",
       "        text-align: right;\n",
       "    }\n",
       "</style>\n",
       "<table border=\"1\" class=\"dataframe\">\n",
       "  <thead>\n",
       "    <tr style=\"text-align: right;\">\n",
       "      <th></th>\n",
       "      <th>customer_id</th>\n",
       "      <th>recency</th>\n",
       "      <th>frequency</th>\n",
       "      <th>revenue</th>\n",
       "    </tr>\n",
       "  </thead>\n",
       "  <tbody>\n",
       "    <tr>\n",
       "      <th>0</th>\n",
       "      <td>17850</td>\n",
       "      <td>160</td>\n",
       "      <td>312</td>\n",
       "      <td>163393</td>\n",
       "    </tr>\n",
       "    <tr>\n",
       "      <th>1</th>\n",
       "      <td>13047</td>\n",
       "      <td>12</td>\n",
       "      <td>131</td>\n",
       "      <td>71917</td>\n",
       "    </tr>\n",
       "    <tr>\n",
       "      <th>2</th>\n",
       "      <td>12583</td>\n",
       "      <td>12</td>\n",
       "      <td>136</td>\n",
       "      <td>74480</td>\n",
       "    </tr>\n",
       "    <tr>\n",
       "      <th>3</th>\n",
       "      <td>13748</td>\n",
       "      <td>90</td>\n",
       "      <td>13</td>\n",
       "      <td>7038</td>\n",
       "    </tr>\n",
       "    <tr>\n",
       "      <th>4</th>\n",
       "      <td>15100</td>\n",
       "      <td>188</td>\n",
       "      <td>6</td>\n",
       "      <td>3161</td>\n",
       "    </tr>\n",
       "  </tbody>\n",
       "</table>\n",
       "</div>"
      ],
      "text/plain": [
       "   customer_id  recency  frequency  revenue\n",
       "0        17850      160        312   163393\n",
       "1        13047       12        131    71917\n",
       "2        12583       12        136    74480\n",
       "3        13748       90         13     7038\n",
       "4        15100      188          6     3161"
      ]
     },
     "execution_count": 44,
     "metadata": {},
     "output_type": "execute_result"
    }
   ],
   "source": [
    "#Revenue\n",
    "revenue = retail_data.groupby('customer_id').revenue.sum().reset_index()\n",
    "revenue.columns = ['customer_id','revenue']\n",
    "user_seg = pd.merge(user_seg, revenue, on = 'customer_id')\n",
    "user_seg.head()"
   ]
  },
  {
   "cell_type": "code",
   "execution_count": 45,
   "metadata": {
    "colab": {
     "base_uri": "https://localhost:8080/",
     "height": 290
    },
    "colab_type": "code",
    "id": "viRhDmESdy7Q",
    "outputId": "e3c087d2-84ad-4418-84f5-b850c86ae529"
   },
   "outputs": [
    {
     "name": "stderr",
     "output_type": "stream",
     "text": [
      "/home/bf/anaconda3/lib/python3.7/site-packages/ipykernel_launcher.py:6: SettingWithCopyWarning: \n",
      "A value is trying to be set on a copy of a slice from a DataFrame.\n",
      "Try using .loc[row_indexer,col_indexer] = value instead\n",
      "\n",
      "See the caveats in the documentation: https://pandas.pydata.org/pandas-docs/stable/user_guide/indexing.html#returning-a-view-versus-a-copy\n",
      "  \n",
      "/home/bf/anaconda3/lib/python3.7/site-packages/ipykernel_launcher.py:6: SettingWithCopyWarning: \n",
      "A value is trying to be set on a copy of a slice from a DataFrame.\n",
      "Try using .loc[row_indexer,col_indexer] = value instead\n",
      "\n",
      "See the caveats in the documentation: https://pandas.pydata.org/pandas-docs/stable/user_guide/indexing.html#returning-a-view-versus-a-copy\n",
      "  \n",
      "/home/bf/anaconda3/lib/python3.7/site-packages/ipykernel_launcher.py:6: SettingWithCopyWarning: \n",
      "A value is trying to be set on a copy of a slice from a DataFrame.\n",
      "Try using .loc[row_indexer,col_indexer] = value instead\n",
      "\n",
      "See the caveats in the documentation: https://pandas.pydata.org/pandas-docs/stable/user_guide/indexing.html#returning-a-view-versus-a-copy\n",
      "  \n",
      "/home/bf/anaconda3/lib/python3.7/site-packages/ipykernel_launcher.py:6: SettingWithCopyWarning: \n",
      "A value is trying to be set on a copy of a slice from a DataFrame.\n",
      "Try using .loc[row_indexer,col_indexer] = value instead\n",
      "\n",
      "See the caveats in the documentation: https://pandas.pydata.org/pandas-docs/stable/user_guide/indexing.html#returning-a-view-versus-a-copy\n",
      "  \n",
      "/home/bf/anaconda3/lib/python3.7/site-packages/ipykernel_launcher.py:6: SettingWithCopyWarning: \n",
      "A value is trying to be set on a copy of a slice from a DataFrame.\n",
      "Try using .loc[row_indexer,col_indexer] = value instead\n",
      "\n",
      "See the caveats in the documentation: https://pandas.pydata.org/pandas-docs/stable/user_guide/indexing.html#returning-a-view-versus-a-copy\n",
      "  \n",
      "/home/bf/anaconda3/lib/python3.7/site-packages/ipykernel_launcher.py:6: SettingWithCopyWarning: \n",
      "A value is trying to be set on a copy of a slice from a DataFrame.\n",
      "Try using .loc[row_indexer,col_indexer] = value instead\n",
      "\n",
      "See the caveats in the documentation: https://pandas.pydata.org/pandas-docs/stable/user_guide/indexing.html#returning-a-view-versus-a-copy\n",
      "  \n",
      "/home/bf/anaconda3/lib/python3.7/site-packages/ipykernel_launcher.py:6: SettingWithCopyWarning: \n",
      "A value is trying to be set on a copy of a slice from a DataFrame.\n",
      "Try using .loc[row_indexer,col_indexer] = value instead\n",
      "\n",
      "See the caveats in the documentation: https://pandas.pydata.org/pandas-docs/stable/user_guide/indexing.html#returning-a-view-versus-a-copy\n",
      "  \n",
      "/home/bf/anaconda3/lib/python3.7/site-packages/ipykernel_launcher.py:6: SettingWithCopyWarning: \n",
      "A value is trying to be set on a copy of a slice from a DataFrame.\n",
      "Try using .loc[row_indexer,col_indexer] = value instead\n",
      "\n",
      "See the caveats in the documentation: https://pandas.pydata.org/pandas-docs/stable/user_guide/indexing.html#returning-a-view-versus-a-copy\n",
      "  \n",
      "/home/bf/anaconda3/lib/python3.7/site-packages/ipykernel_launcher.py:6: SettingWithCopyWarning: \n",
      "A value is trying to be set on a copy of a slice from a DataFrame.\n",
      "Try using .loc[row_indexer,col_indexer] = value instead\n",
      "\n",
      "See the caveats in the documentation: https://pandas.pydata.org/pandas-docs/stable/user_guide/indexing.html#returning-a-view-versus-a-copy\n",
      "  \n"
     ]
    },
    {
     "data": {
      "image/png": "[encoded data removed]",
      "text/plain": [
       "<Figure size 432x288 with 1 Axes>"
      ]
     },
     "metadata": {
      "needs_background": "light"
     },
     "output_type": "display_data"
    }
   ],
   "source": [
    "#Elbow Method\n",
    "sse={}\n",
    "recency = user_seg[['recency']]\n",
    "for k in range(1, 10):\n",
    "    kmeans = KMeans(n_clusters=k, max_iter=1000).fit(recency)\n",
    "    recency[\"clusters\"] = kmeans.labels_\n",
    "    sse[k] = kmeans.inertia_ \n",
    "plt.figure()\n",
    "plt.plot(list(sse.keys()), list(sse.values()))\n",
    "plt.xlabel(\"Number of cluster\")\n",
    "plt.show()"
   ]
  },
  {
   "cell_type": "code",
   "execution_count": 54,
   "metadata": {
    "colab": {
     "base_uri": "https://localhost:8080/",
     "height": 204
    },
    "colab_type": "code",
    "id": "6bTZ6bPzfQ6L",
    "outputId": "85d30eb7-2f21-4451-fe3e-9a41ce8068ea"
   },
   "outputs": [
    {
     "data": {
      "text/html": [
       "<div>\n",
       "<style scoped>\n",
       "    .dataframe tbody tr th:only-of-type {\n",
       "        vertical-align: middle;\n",
       "    }\n",
       "\n",
       "    .dataframe tbody tr th {\n",
       "        vertical-align: top;\n",
       "    }\n",
       "\n",
       "    .dataframe thead th {\n",
       "        text-align: right;\n",
       "    }\n",
       "</style>\n",
       "<table border=\"1\" class=\"dataframe\">\n",
       "  <thead>\n",
       "    <tr style=\"text-align: right;\">\n",
       "      <th></th>\n",
       "      <th>recency</th>\n",
       "    </tr>\n",
       "  </thead>\n",
       "  <tbody>\n",
       "    <tr>\n",
       "      <th>0</th>\n",
       "      <td>160</td>\n",
       "    </tr>\n",
       "    <tr>\n",
       "      <th>1</th>\n",
       "      <td>12</td>\n",
       "    </tr>\n",
       "    <tr>\n",
       "      <th>2</th>\n",
       "      <td>12</td>\n",
       "    </tr>\n",
       "    <tr>\n",
       "      <th>3</th>\n",
       "      <td>90</td>\n",
       "    </tr>\n",
       "    <tr>\n",
       "      <th>4</th>\n",
       "      <td>188</td>\n",
       "    </tr>\n",
       "    <tr>\n",
       "      <th>...</th>\n",
       "      <td>...</td>\n",
       "    </tr>\n",
       "    <tr>\n",
       "      <th>9975</th>\n",
       "      <td>0</td>\n",
       "    </tr>\n",
       "    <tr>\n",
       "      <th>9976</th>\n",
       "      <td>0</td>\n",
       "    </tr>\n",
       "    <tr>\n",
       "      <th>9977</th>\n",
       "      <td>0</td>\n",
       "    </tr>\n",
       "    <tr>\n",
       "      <th>9978</th>\n",
       "      <td>0</td>\n",
       "    </tr>\n",
       "    <tr>\n",
       "      <th>9979</th>\n",
       "      <td>0</td>\n",
       "    </tr>\n",
       "  </tbody>\n",
       "</table>\n",
       "<p>9980 rows × 1 columns</p>\n",
       "</div>"
      ],
      "text/plain": [
       "      recency\n",
       "0         160\n",
       "1          12\n",
       "2          12\n",
       "3          90\n",
       "4         188\n",
       "...       ...\n",
       "9975        0\n",
       "9976        0\n",
       "9977        0\n",
       "9978        0\n",
       "9979        0\n",
       "\n",
       "[9980 rows x 1 columns]"
      ]
     },
     "execution_count": 54,
     "metadata": {},
     "output_type": "execute_result"
    }
   ],
   "source": [
    "#K means cluster based on recency\n",
    "kmeans = KMeans(n_clusters=4)\n",
    "kmeans.fit(user_seg[['recency']])\n",
    "user_seg['recency_cluster'] = kmeans.predict(user_seg[['recency']])\n",
    "\n",
    "user_seg.groupby('recency_cluster').mean()\n",
    "\n",
    "user_seg[['recency']]"
   ]
  },
  {
   "cell_type": "code",
   "execution_count": 62,
   "metadata": {
    "colab": {},
    "colab_type": "code",
    "id": "HP7YwPu0lIu7"
   },
   "outputs": [
    {
     "name": "stderr",
     "output_type": "stream",
     "text": [
      "/home/bf/anaconda3/lib/python3.7/site-packages/ipykernel_launcher.py:7: SettingWithCopyWarning: \n",
      "A value is trying to be set on a copy of a slice from a DataFrame.\n",
      "Try using .loc[row_indexer,col_indexer] = value instead\n",
      "\n",
      "See the caveats in the documentation: https://pandas.pydata.org/pandas-docs/stable/user_guide/indexing.html#returning-a-view-versus-a-copy\n",
      "  import sys\n",
      "/home/bf/anaconda3/lib/python3.7/site-packages/ipykernel_launcher.py:7: SettingWithCopyWarning: \n",
      "A value is trying to be set on a copy of a slice from a DataFrame.\n",
      "Try using .loc[row_indexer,col_indexer] = value instead\n",
      "\n",
      "See the caveats in the documentation: https://pandas.pydata.org/pandas-docs/stable/user_guide/indexing.html#returning-a-view-versus-a-copy\n",
      "  import sys\n",
      "/home/bf/anaconda3/lib/python3.7/site-packages/ipykernel_launcher.py:7: SettingWithCopyWarning: \n",
      "A value is trying to be set on a copy of a slice from a DataFrame.\n",
      "Try using .loc[row_indexer,col_indexer] = value instead\n",
      "\n",
      "See the caveats in the documentation: https://pandas.pydata.org/pandas-docs/stable/user_guide/indexing.html#returning-a-view-versus-a-copy\n",
      "  import sys\n",
      "/home/bf/anaconda3/lib/python3.7/site-packages/ipykernel_launcher.py:7: SettingWithCopyWarning: \n",
      "A value is trying to be set on a copy of a slice from a DataFrame.\n",
      "Try using .loc[row_indexer,col_indexer] = value instead\n",
      "\n",
      "See the caveats in the documentation: https://pandas.pydata.org/pandas-docs/stable/user_guide/indexing.html#returning-a-view-versus-a-copy\n",
      "  import sys\n",
      "/home/bf/anaconda3/lib/python3.7/site-packages/ipykernel_launcher.py:7: SettingWithCopyWarning: \n",
      "A value is trying to be set on a copy of a slice from a DataFrame.\n",
      "Try using .loc[row_indexer,col_indexer] = value instead\n",
      "\n",
      "See the caveats in the documentation: https://pandas.pydata.org/pandas-docs/stable/user_guide/indexing.html#returning-a-view-versus-a-copy\n",
      "  import sys\n",
      "/home/bf/anaconda3/lib/python3.7/site-packages/ipykernel_launcher.py:7: SettingWithCopyWarning: \n",
      "A value is trying to be set on a copy of a slice from a DataFrame.\n",
      "Try using .loc[row_indexer,col_indexer] = value instead\n",
      "\n",
      "See the caveats in the documentation: https://pandas.pydata.org/pandas-docs/stable/user_guide/indexing.html#returning-a-view-versus-a-copy\n",
      "  import sys\n",
      "/home/bf/anaconda3/lib/python3.7/site-packages/ipykernel_launcher.py:7: SettingWithCopyWarning: \n",
      "A value is trying to be set on a copy of a slice from a DataFrame.\n",
      "Try using .loc[row_indexer,col_indexer] = value instead\n",
      "\n",
      "See the caveats in the documentation: https://pandas.pydata.org/pandas-docs/stable/user_guide/indexing.html#returning-a-view-versus-a-copy\n",
      "  import sys\n",
      "/home/bf/anaconda3/lib/python3.7/site-packages/ipykernel_launcher.py:7: SettingWithCopyWarning: \n",
      "A value is trying to be set on a copy of a slice from a DataFrame.\n",
      "Try using .loc[row_indexer,col_indexer] = value instead\n",
      "\n",
      "See the caveats in the documentation: https://pandas.pydata.org/pandas-docs/stable/user_guide/indexing.html#returning-a-view-versus-a-copy\n",
      "  import sys\n",
      "/home/bf/anaconda3/lib/python3.7/site-packages/ipykernel_launcher.py:7: SettingWithCopyWarning: \n",
      "A value is trying to be set on a copy of a slice from a DataFrame.\n",
      "Try using .loc[row_indexer,col_indexer] = value instead\n",
      "\n",
      "See the caveats in the documentation: https://pandas.pydata.org/pandas-docs/stable/user_guide/indexing.html#returning-a-view-versus-a-copy\n",
      "  import sys\n"
     ]
    },
    {
     "data": {
      "image/png": "[encoded data removed]",
      "text/plain": [
       "<Figure size 432x288 with 1 Axes>"
      ]
     },
     "metadata": {
      "needs_background": "light"
     },
     "output_type": "display_data"
    },
    {
     "data": {
      "text/html": [
       "<div>\n",
       "<style scoped>\n",
       "    .dataframe tbody tr th:only-of-type {\n",
       "        vertical-align: middle;\n",
       "    }\n",
       "\n",
       "    .dataframe tbody tr th {\n",
       "        vertical-align: top;\n",
       "    }\n",
       "\n",
       "    .dataframe thead th {\n",
       "        text-align: right;\n",
       "    }\n",
       "</style>\n",
       "<table border=\"1\" class=\"dataframe\">\n",
       "  <thead>\n",
       "    <tr style=\"text-align: right;\">\n",
       "      <th></th>\n",
       "      <th>customer_id</th>\n",
       "      <th>recency</th>\n",
       "      <th>frequency</th>\n",
       "      <th>revenue</th>\n",
       "      <th>recency_cluster</th>\n",
       "      <th>revenue_cluster</th>\n",
       "    </tr>\n",
       "    <tr>\n",
       "      <th>frequency_cluster</th>\n",
       "      <th></th>\n",
       "      <th></th>\n",
       "      <th></th>\n",
       "      <th></th>\n",
       "      <th></th>\n",
       "      <th></th>\n",
       "    </tr>\n",
       "  </thead>\n",
       "  <tbody>\n",
       "    <tr>\n",
       "      <th>0</th>\n",
       "      <td>15413.753846</td>\n",
       "      <td>29.158974</td>\n",
       "      <td>217.069231</td>\n",
       "      <td>113667.276923</td>\n",
       "      <td>0.748718</td>\n",
       "      <td>1.953846</td>\n",
       "    </tr>\n",
       "    <tr>\n",
       "      <th>1</th>\n",
       "      <td>14897.272727</td>\n",
       "      <td>3.636364</td>\n",
       "      <td>1529.909091</td>\n",
       "      <td>806332.636364</td>\n",
       "      <td>0.000000</td>\n",
       "      <td>1.181818</td>\n",
       "    </tr>\n",
       "    <tr>\n",
       "      <th>2</th>\n",
       "      <td>19784.308801</td>\n",
       "      <td>35.201691</td>\n",
       "      <td>17.917528</td>\n",
       "      <td>9419.419459</td>\n",
       "      <td>0.707798</td>\n",
       "      <td>0.001462</td>\n",
       "    </tr>\n",
       "  </tbody>\n",
       "</table>\n",
       "</div>"
      ],
      "text/plain": [
       "                    customer_id    recency    frequency        revenue  \\\n",
       "frequency_cluster                                                        \n",
       "0                  15413.753846  29.158974   217.069231  113667.276923   \n",
       "1                  14897.272727   3.636364  1529.909091  806332.636364   \n",
       "2                  19784.308801  35.201691    17.917528    9419.419459   \n",
       "\n",
       "                   recency_cluster  revenue_cluster  \n",
       "frequency_cluster                                    \n",
       "0                         0.748718         1.953846  \n",
       "1                         0.000000         1.181818  \n",
       "2                         0.707798         0.001462  "
      ]
     },
     "execution_count": 62,
     "metadata": {},
     "output_type": "execute_result"
    }
   ],
   "source": [
    "# Apply the same method to Frequency and Revenue\n",
    "# for frequency\n",
    "sse={}\n",
    "frequency = user_seg[['frequency']]\n",
    "for k in range(1, 10):\n",
    "    kmeans = KMeans(n_clusters=k, max_iter=1000).fit(frequency)\n",
    "    frequency[\"clusters\"] = kmeans.labels_\n",
    "    sse[k] = kmeans.inertia_ \n",
    "plt.figure()\n",
    "plt.plot(list(sse.keys()), list(sse.values()))\n",
    "plt.xlabel(\"Number of cluster\")\n",
    "plt.show()\n",
    "\n",
    "kmeans = KMeans(n_clusters=3)\n",
    "kmeans.fit(user_seg[['frequency']])\n",
    "user_seg['frequency_cluster'] = kmeans.predict(user_seg[['frequency']])\n",
    "\n",
    "user_seg.groupby('frequency_cluster').mean()"
   ]
  },
  {
   "cell_type": "code",
   "execution_count": 64,
   "metadata": {},
   "outputs": [
    {
     "name": "stderr",
     "output_type": "stream",
     "text": [
      "/home/bf/anaconda3/lib/python3.7/site-packages/ipykernel_launcher.py:6: SettingWithCopyWarning: \n",
      "A value is trying to be set on a copy of a slice from a DataFrame.\n",
      "Try using .loc[row_indexer,col_indexer] = value instead\n",
      "\n",
      "See the caveats in the documentation: https://pandas.pydata.org/pandas-docs/stable/user_guide/indexing.html#returning-a-view-versus-a-copy\n",
      "  \n",
      "/home/bf/anaconda3/lib/python3.7/site-packages/ipykernel_launcher.py:6: SettingWithCopyWarning: \n",
      "A value is trying to be set on a copy of a slice from a DataFrame.\n",
      "Try using .loc[row_indexer,col_indexer] = value instead\n",
      "\n",
      "See the caveats in the documentation: https://pandas.pydata.org/pandas-docs/stable/user_guide/indexing.html#returning-a-view-versus-a-copy\n",
      "  \n",
      "/home/bf/anaconda3/lib/python3.7/site-packages/ipykernel_launcher.py:6: SettingWithCopyWarning: \n",
      "A value is trying to be set on a copy of a slice from a DataFrame.\n",
      "Try using .loc[row_indexer,col_indexer] = value instead\n",
      "\n",
      "See the caveats in the documentation: https://pandas.pydata.org/pandas-docs/stable/user_guide/indexing.html#returning-a-view-versus-a-copy\n",
      "  \n",
      "/home/bf/anaconda3/lib/python3.7/site-packages/ipykernel_launcher.py:6: SettingWithCopyWarning: \n",
      "A value is trying to be set on a copy of a slice from a DataFrame.\n",
      "Try using .loc[row_indexer,col_indexer] = value instead\n",
      "\n",
      "See the caveats in the documentation: https://pandas.pydata.org/pandas-docs/stable/user_guide/indexing.html#returning-a-view-versus-a-copy\n",
      "  \n",
      "/home/bf/anaconda3/lib/python3.7/site-packages/ipykernel_launcher.py:6: SettingWithCopyWarning: \n",
      "A value is trying to be set on a copy of a slice from a DataFrame.\n",
      "Try using .loc[row_indexer,col_indexer] = value instead\n",
      "\n",
      "See the caveats in the documentation: https://pandas.pydata.org/pandas-docs/stable/user_guide/indexing.html#returning-a-view-versus-a-copy\n",
      "  \n",
      "/home/bf/anaconda3/lib/python3.7/site-packages/ipykernel_launcher.py:6: SettingWithCopyWarning: \n",
      "A value is trying to be set on a copy of a slice from a DataFrame.\n",
      "Try using .loc[row_indexer,col_indexer] = value instead\n",
      "\n",
      "See the caveats in the documentation: https://pandas.pydata.org/pandas-docs/stable/user_guide/indexing.html#returning-a-view-versus-a-copy\n",
      "  \n",
      "/home/bf/anaconda3/lib/python3.7/site-packages/ipykernel_launcher.py:6: SettingWithCopyWarning: \n",
      "A value is trying to be set on a copy of a slice from a DataFrame.\n",
      "Try using .loc[row_indexer,col_indexer] = value instead\n",
      "\n",
      "See the caveats in the documentation: https://pandas.pydata.org/pandas-docs/stable/user_guide/indexing.html#returning-a-view-versus-a-copy\n",
      "  \n",
      "/home/bf/anaconda3/lib/python3.7/site-packages/ipykernel_launcher.py:6: SettingWithCopyWarning: \n",
      "A value is trying to be set on a copy of a slice from a DataFrame.\n",
      "Try using .loc[row_indexer,col_indexer] = value instead\n",
      "\n",
      "See the caveats in the documentation: https://pandas.pydata.org/pandas-docs/stable/user_guide/indexing.html#returning-a-view-versus-a-copy\n",
      "  \n",
      "/home/bf/anaconda3/lib/python3.7/site-packages/ipykernel_launcher.py:6: SettingWithCopyWarning: \n",
      "A value is trying to be set on a copy of a slice from a DataFrame.\n",
      "Try using .loc[row_indexer,col_indexer] = value instead\n",
      "\n",
      "See the caveats in the documentation: https://pandas.pydata.org/pandas-docs/stable/user_guide/indexing.html#returning-a-view-versus-a-copy\n",
      "  \n"
     ]
    },
    {
     "data": {
      "image/png": "[encoded data removed]",
      "text/plain": [
       "<Figure size 432x288 with 1 Axes>"
      ]
     },
     "metadata": {
      "needs_background": "light"
     },
     "output_type": "display_data"
    },
    {
     "data": {
      "text/html": [
       "<div>\n",
       "<style scoped>\n",
       "    .dataframe tbody tr th:only-of-type {\n",
       "        vertical-align: middle;\n",
       "    }\n",
       "\n",
       "    .dataframe tbody tr th {\n",
       "        vertical-align: top;\n",
       "    }\n",
       "\n",
       "    .dataframe thead th {\n",
       "        text-align: right;\n",
       "    }\n",
       "</style>\n",
       "<table border=\"1\" class=\"dataframe\">\n",
       "  <thead>\n",
       "    <tr style=\"text-align: right;\">\n",
       "      <th></th>\n",
       "      <th>customer_id</th>\n",
       "      <th>recency</th>\n",
       "      <th>frequency</th>\n",
       "      <th>revenue</th>\n",
       "      <th>recency_cluster</th>\n",
       "      <th>frequency_cluster</th>\n",
       "    </tr>\n",
       "    <tr>\n",
       "      <th>revenue_cluster</th>\n",
       "      <th></th>\n",
       "      <th></th>\n",
       "      <th></th>\n",
       "      <th></th>\n",
       "      <th></th>\n",
       "      <th></th>\n",
       "    </tr>\n",
       "  </thead>\n",
       "  <tbody>\n",
       "    <tr>\n",
       "      <th>0</th>\n",
       "      <td>19778.200417</td>\n",
       "      <td>35.210943</td>\n",
       "      <td>18.092340</td>\n",
       "      <td>9506.571443</td>\n",
       "      <td>0.708181</td>\n",
       "      <td>1.996040</td>\n",
       "    </tr>\n",
       "    <tr>\n",
       "      <th>1</th>\n",
       "      <td>14606.000000</td>\n",
       "      <td>1.333333</td>\n",
       "      <td>1668.000000</td>\n",
       "      <td>879491.555556</td>\n",
       "      <td>0.000000</td>\n",
       "      <td>1.000000</td>\n",
       "    </tr>\n",
       "    <tr>\n",
       "      <th>2</th>\n",
       "      <td>15387.875000</td>\n",
       "      <td>28.585106</td>\n",
       "      <td>224.760638</td>\n",
       "      <td>117812.603723</td>\n",
       "      <td>0.736702</td>\n",
       "      <td>0.021277</td>\n",
       "    </tr>\n",
       "  </tbody>\n",
       "</table>\n",
       "</div>"
      ],
      "text/plain": [
       "                  customer_id    recency    frequency        revenue  \\\n",
       "revenue_cluster                                                        \n",
       "0                19778.200417  35.210943    18.092340    9506.571443   \n",
       "1                14606.000000   1.333333  1668.000000  879491.555556   \n",
       "2                15387.875000  28.585106   224.760638  117812.603723   \n",
       "\n",
       "                 recency_cluster  frequency_cluster  \n",
       "revenue_cluster                                      \n",
       "0                       0.708181           1.996040  \n",
       "1                       0.000000           1.000000  \n",
       "2                       0.736702           0.021277  "
      ]
     },
     "execution_count": 64,
     "metadata": {},
     "output_type": "execute_result"
    }
   ],
   "source": [
    "#for revenue\n",
    "sse={}\n",
    "revenue = user_seg[['revenue']]\n",
    "for k in range(1, 10):\n",
    "    kmeans = KMeans(n_clusters=k, max_iter=5000).fit(revenue)\n",
    "    revenue[\"clusters\"] = kmeans.labels_\n",
    "    sse[k] = kmeans.inertia_ \n",
    "plt.figure()\n",
    "plt.plot(list(sse.keys()), list(sse.values()))\n",
    "plt.xlabel(\"Number of cluster\")\n",
    "plt.show()\n",
    "\n",
    "kmeans = KMeans(n_clusters=3)\n",
    "kmeans.fit(user_seg[['revenue']])\n",
    "user_seg['revenue_cluster'] = kmeans.predict(user_seg[['revenue']])\n",
    "\n",
    "user_seg.groupby('revenue_cluster').mean()"
   ]
  },
  {
   "cell_type": "markdown",
   "metadata": {
    "colab_type": "text",
    "id": "lPUBLOrQNj3s"
   },
   "source": [
    "# (Optional) KMeans from scratch"
   ]
  },
  {
   "cell_type": "code",
   "execution_count": 29,
   "metadata": {
    "colab": {},
    "colab_type": "code",
    "id": "I9_3ocOVPV2Z"
   },
   "outputs": [],
   "source": [
    "import numpy as np\n",
    "import sys,math\n",
    "from scipy.spatial import distance\n",
    "import matplotlib.pyplot as plt\n",
    "\n",
    "class KMeans_self:\n",
    "    \n",
    "    def __init__(self, k, eps):\n",
    "        '''\n",
    "        init a Kmeans cluster\n",
    "        :param k: number of clusters\n",
    "        :param eps: convergence limit\n",
    "        '''\n",
    "        self.k = k\n",
    "        self.eps = eps\n",
    "    \n",
    "    \n",
    "    def fit(self, x, detailed = False):\n",
    "        '''\n",
    "        fit for dataset x\n",
    "        :param x: dataset input, should be np.ndarray\n",
    "        :param detailed: boolean for print out or not\n",
    "        :return: the label of each x\n",
    "        '''\n",
    "        '''\n",
    "        algorithm overview:\n",
    "        1. assigned the k centers randomly\n",
    "        2.1 assigned the other points to cluster which has the minimum distance\n",
    "        2.2 calculate the centers again by using the center of each clusters\n",
    "        3. loop till changes less than eps\n",
    "        '''\n",
    "        if not isinstance(x, np.ndarray):\n",
    "            x = np.array(x)\n",
    "        n_samples = x.shape[0]\n",
    "        '''assign the k centers randomly'''\n",
    "        centers_idx = np.random.randint(n_samples, size=self.k)\n",
    "        self.centers = x[centers_idx]\n",
    "        '''step 2, loop till part'''\n",
    "        stopped = False\n",
    "        label = None\n",
    "        \n",
    "        '''2.1 calculate the distance pairs'''\n",
    "        \n",
    "        ite = 0\n",
    "        while(ite < 40):  \n",
    "            # contain labels\n",
    "            samples_idx = []\n",
    "            # contain classes\n",
    "            for i in centers_idx:\n",
    "                samples_idx.append([i])\n",
    "            for i in range(n_samples):\n",
    "                if i not in centers_idx:\n",
    "                    dis = []\n",
    "                    # calculate min distance to decide which class\n",
    "                    for j in centers_idx:\n",
    "                        dis.append(dist(x[i],x[j]))\n",
    "                    min_id = dis.index(min(dis))\n",
    "                    samples_idx[min_id].append(i)\n",
    "            centers_idx = find_center(x,samples_idx)\n",
    "            ite = ite + 1\n",
    "        label = samples_idx\n",
    "        \n",
    "        return label\n",
    "    \n",
    "    def predict(self, x_new):\n",
    "        '''\n",
    "        predict module for kmeans, used for predict the cluster label for new x_new\n",
    "        :param x_new: new data point\n",
    "        :return: the label\n",
    "        '''\n",
    "        assert x_new.shape[1] == self.centers.shape[1], 'the dim of x_new should be the same as x/centers, centers dim: {}'.format(self.centers.shape[1])\n",
    "        distance_matrix = distance.cdist(x_new, self.centers)\n",
    "        predicted = np.argmin(distance_matrix, axis=1)\n",
    "        return predicted\n",
    "\n",
    "def dist(x,y):\n",
    "    su = 0\n",
    "    for i in range(x.shape[0]):\n",
    "        su = su + (x[i] - y[i])**2\n",
    "    \n",
    "    return math.sqrt(su)\n",
    "\n",
    "def find_center(x,idx):\n",
    "    cid = []\n",
    "    dist = []\n",
    "    # for every class\n",
    "    for cls in idx:\n",
    "        dis = sys.maxsize\n",
    "        ci = 0\n",
    "        # for \n",
    "        mean_val = []\n",
    "        for i in cls:\n",
    "            mean_val.append(x[i])\n",
    "        m = sum(mean_val) / len(mean_val)\n",
    "        for i in cls:\n",
    "            one_dis = distance.cdist([x[i]],[m])\n",
    "            #print(x[i])\n",
    "            if (dis > one_dis):\n",
    "                ci = i\n",
    "                dis = one_dis\n",
    "        cid.append(i)\n",
    "    \n",
    "        dist.append(dis)\n",
    "    \n",
    "    return cid"
   ]
  },
  {
   "cell_type": "code",
   "execution_count": 30,
   "metadata": {
    "colab": {},
    "colab_type": "code",
    "id": "UCO0xgcySPFS"
   },
   "outputs": [],
   "source": [
    "class test:\n",
    "    \n",
    "    def __init__(self):\n",
    "        pass\n",
    "    '''only used for test for some module'''\n",
    "    def test_scipy(self):\n",
    "        '''test for scipy distance module'''\n",
    "        print(scipy.__version__)\n",
    "        from scipy.spatial import distance\n",
    "        a = np.array([[0, 0, 0],\n",
    "                      [0, 0, 1],\n",
    "                      [0, 1, 0],\n",
    "                      [0, 1, 1],\n",
    "                      [1, 0, 0],\n",
    "                      [1, 0, 1],\n",
    "                      [1, 1, 0],\n",
    "                      [1, 1, 1]])\n",
    "        b = np.array([[0, 0, 0],\n",
    "                      [0, 0, 1],\n",
    "                      [0, 1, 0],\n",
    "                      [0, 1, 1]])\n",
    "        print(distance.cdist(a, b))\n",
    "        print(np.argmin(distance.cdist(a, b), axis=1)) # [0 1 2 3 0 1 2 3]\n",
    "        print(np.argmin(distance.cdist(a, b), axis=0)) # [0 1 2 3]\n",
    "        print(distance.cdist(a, b).shape) # shape of a, shape of b\n",
    "    \n",
    "    def test_fit(self, x, k, eps):\n",
    "        '''test for predict module'''\n",
    "        kmeans = KMeans_self(k, eps)\n",
    "        labels = kmeans.fit(x)\n",
    "        print(labels)\n",
    "    \n",
    "    def test_predict(self, x, k, eps, x_new):\n",
    "        kmeans = KMeans_self(k, eps)\n",
    "        _ = kmeans.fit(x)\n",
    "        predicted = kmeans.predict(x_new)\n",
    "        print(predicted)\n",
    "        "
   ]
  },
  {
   "cell_type": "code",
   "execution_count": 31,
   "metadata": {},
   "outputs": [
    {
     "name": "stdout",
     "output_type": "stream",
     "text": [
      "[[80, 17, 28, 31, 50, 56, 72], [88, 16, 45, 47, 49, 53, 54, 55, 61, 64, 67, 89], [86, 3, 7, 20, 23, 29, 63, 68], [75, 1, 4, 6, 8, 11, 18, 19, 21, 22, 24, 27, 32, 33, 36, 38, 40, 71, 73, 74, 76, 79, 85], [65, 58, 59, 77, 87], [62, 0, 46, 66, 83], [84, 2, 5, 10, 12, 13, 14, 15, 25, 26, 30, 34, 35, 37, 39, 42, 43, 44, 51, 60, 69, 70, 78, 81, 82], [57, 9, 41, 48, 52]]\n"
     ]
    }
   ],
   "source": [
    "\n",
    "import matplotlib.pyplot as plt\n",
    "np.random.seed(3)\n",
    "unit_test = test()\n",
    "x = np.random.randn(90, 6)\n",
    "k, eps = 8, 1e-2\n",
    "labels = unit_test.test_fit(x, k, eps)\n",
    "a = x[:,0]\n",
    "b = x[:,1]"
   ]
  },
  {
   "cell_type": "code",
   "execution_count": 32,
   "metadata": {
    "colab": {
     "base_uri": "https://localhost:8080/",
     "height": 68
    },
    "colab_type": "code",
    "id": "L-0XjSsJSPtv",
    "outputId": "c58eabcc-402c-46df-d43b-c3619da4ec58",
    "tags": []
   },
   "outputs": [
    {
     "name": "stdout",
     "output_type": "stream",
     "text": [
      "[[14, 0], [16, 1, 3, 4, 5, 6, 8, 9, 10, 11, 12, 13, 18], [19, 2, 7, 15, 17]]\n",
      "the dim of x_new should be the same as x/centers, centers dim: 4\n",
      "[2 0 0 0 0 0 1 2 0 2 2 2 2 2 0]\n"
     ]
    }
   ],
   "source": [
    "# run the KMeans\n",
    "\n",
    "np.random.seed(3)\n",
    "unit_test = test()\n",
    "x = np.random.randn(20, 4)\n",
    "k, eps = 3, 1e-2\n",
    "unit_test.test_fit(x, k, eps)\n",
    "x_new = np.random.randn(15, 4)\n",
    "x_new2 = np.random.randn(10, 3)\n",
    "try:\n",
    "    unit_test.test_predict(x, k, eps, x_new2)\n",
    "except Exception as e:\n",
    "    print(e)\n",
    "unit_test.test_predict(x, k, eps, x_new)"
   ]
  },
  {
   "cell_type": "markdown",
   "metadata": {
    "colab_type": "text",
    "id": "2DJKa0eGg3KA"
   },
   "source": [
    "Test on our user segementation data"
   ]
  },
  {
   "cell_type": "code",
   "execution_count": 21,
   "metadata": {
    "colab": {
     "base_uri": "https://localhost:8080/",
     "height": 221
    },
    "colab_type": "code",
    "id": "2LR_H_TwStPi",
    "outputId": "60954c3f-4f72-4ca6-fb4f-3116aeff9142"
   },
   "outputs": [
    {
     "ename": "NameError",
     "evalue": "name 'distance' is not defined",
     "output_type": "error",
     "traceback": [
      "\u001b[0;31m---------------------------------------------------------------------------\u001b[0m",
      "\u001b[0;31mNameError\u001b[0m                                 Traceback (most recent call last)",
      "\u001b[0;32m<ipython-input-21-d464417140ea>\u001b[0m in \u001b[0;36m<module>\u001b[0;34m\u001b[0m\n\u001b[1;32m      4\u001b[0m \u001b[0mkmeans\u001b[0m \u001b[0;34m=\u001b[0m \u001b[0mKMeans_self\u001b[0m\u001b[0;34m(\u001b[0m\u001b[0mk\u001b[0m\u001b[0;34m=\u001b[0m\u001b[0;36m4\u001b[0m\u001b[0;34m,\u001b[0m \u001b[0meps\u001b[0m \u001b[0;34m=\u001b[0m \u001b[0;36m1\u001b[0m\u001b[0;34m)\u001b[0m\u001b[0;34m\u001b[0m\u001b[0;34m\u001b[0m\u001b[0m\n\u001b[1;32m      5\u001b[0m \u001b[0mkmeans\u001b[0m\u001b[0;34m.\u001b[0m\u001b[0mfit\u001b[0m\u001b[0;34m(\u001b[0m\u001b[0muser_seg\u001b[0m\u001b[0;34m[\u001b[0m\u001b[0;34m[\u001b[0m\u001b[0;34m'recency'\u001b[0m\u001b[0;34m]\u001b[0m\u001b[0;34m]\u001b[0m\u001b[0;34m)\u001b[0m\u001b[0;34m\u001b[0m\u001b[0;34m\u001b[0m\u001b[0m\n\u001b[0;32m----> 6\u001b[0;31m \u001b[0muser_seg\u001b[0m\u001b[0;34m[\u001b[0m\u001b[0;34m'recency_cluster'\u001b[0m\u001b[0;34m]\u001b[0m \u001b[0;34m=\u001b[0m \u001b[0mkmeans\u001b[0m\u001b[0;34m.\u001b[0m\u001b[0mpredict\u001b[0m\u001b[0;34m(\u001b[0m\u001b[0muser_seg\u001b[0m\u001b[0;34m[\u001b[0m\u001b[0;34m[\u001b[0m\u001b[0;34m'recency'\u001b[0m\u001b[0;34m]\u001b[0m\u001b[0;34m]\u001b[0m\u001b[0;34m)\u001b[0m\u001b[0;34m\u001b[0m\u001b[0;34m\u001b[0m\u001b[0m\n\u001b[0m\u001b[1;32m      7\u001b[0m \u001b[0melapsed_time\u001b[0m \u001b[0;34m=\u001b[0m \u001b[0mtime\u001b[0m\u001b[0;34m.\u001b[0m\u001b[0mtime\u001b[0m\u001b[0;34m(\u001b[0m\u001b[0;34m)\u001b[0m \u001b[0;34m-\u001b[0m \u001b[0mstart_time\u001b[0m\u001b[0;34m\u001b[0m\u001b[0;34m\u001b[0m\u001b[0m\n\u001b[1;32m      8\u001b[0m \u001b[0mprint\u001b[0m\u001b[0;34m(\u001b[0m\u001b[0;34mf\"Elapsed time: {elapsed_time:0.4f} seconds\"\u001b[0m\u001b[0;34m)\u001b[0m\u001b[0;34m\u001b[0m\u001b[0;34m\u001b[0m\u001b[0m\n",
      "\u001b[0;32m<ipython-input-18-38b9ec3c703f>\u001b[0m in \u001b[0;36mpredict\u001b[0;34m(self, x_new)\u001b[0m\n\u001b[1;32m     51\u001b[0m         '''\n\u001b[1;32m     52\u001b[0m         \u001b[0;32massert\u001b[0m \u001b[0mx_new\u001b[0m\u001b[0;34m.\u001b[0m\u001b[0mshape\u001b[0m\u001b[0;34m[\u001b[0m\u001b[0;36m1\u001b[0m\u001b[0;34m]\u001b[0m \u001b[0;34m==\u001b[0m \u001b[0mself\u001b[0m\u001b[0;34m.\u001b[0m\u001b[0mcenters\u001b[0m\u001b[0;34m.\u001b[0m\u001b[0mshape\u001b[0m\u001b[0;34m[\u001b[0m\u001b[0;36m1\u001b[0m\u001b[0;34m]\u001b[0m\u001b[0;34m,\u001b[0m \u001b[0;34m'the dim of x_new should be the same as x/centers, centers dim: {}'\u001b[0m\u001b[0;34m.\u001b[0m\u001b[0mformat\u001b[0m\u001b[0;34m(\u001b[0m\u001b[0mself\u001b[0m\u001b[0;34m.\u001b[0m\u001b[0mcenters\u001b[0m\u001b[0;34m.\u001b[0m\u001b[0mshape\u001b[0m\u001b[0;34m[\u001b[0m\u001b[0;36m1\u001b[0m\u001b[0;34m]\u001b[0m\u001b[0;34m)\u001b[0m\u001b[0;34m\u001b[0m\u001b[0;34m\u001b[0m\u001b[0m\n\u001b[0;32m---> 53\u001b[0;31m         \u001b[0mdistance_matrix\u001b[0m \u001b[0;34m=\u001b[0m \u001b[0mdistance\u001b[0m\u001b[0;34m.\u001b[0m\u001b[0mcdist\u001b[0m\u001b[0;34m(\u001b[0m\u001b[0mx_new\u001b[0m\u001b[0;34m,\u001b[0m \u001b[0mself\u001b[0m\u001b[0;34m.\u001b[0m\u001b[0mcenters\u001b[0m\u001b[0;34m)\u001b[0m\u001b[0;34m\u001b[0m\u001b[0;34m\u001b[0m\u001b[0m\n\u001b[0m\u001b[1;32m     54\u001b[0m         \u001b[0mpredicted\u001b[0m \u001b[0;34m=\u001b[0m \u001b[0mnp\u001b[0m\u001b[0;34m.\u001b[0m\u001b[0margmin\u001b[0m\u001b[0;34m(\u001b[0m\u001b[0mdistance_matrix\u001b[0m\u001b[0;34m,\u001b[0m \u001b[0maxis\u001b[0m\u001b[0;34m=\u001b[0m\u001b[0;36m1\u001b[0m\u001b[0;34m)\u001b[0m\u001b[0;34m\u001b[0m\u001b[0;34m\u001b[0m\u001b[0m\n\u001b[1;32m     55\u001b[0m         \u001b[0;32mreturn\u001b[0m \u001b[0mpredicted\u001b[0m\u001b[0;34m\u001b[0m\u001b[0;34m\u001b[0m\u001b[0m\n",
      "\u001b[0;31mNameError\u001b[0m: name 'distance' is not defined"
     ]
    }
   ],
   "source": [
    "import time\n",
    "#K means cluster based on recency, using KMeans we write ourselves\n",
    "start_time = time.time()\n",
    "kmeans = KMeans_self(k=4, eps = 1)\n",
    "kmeans.fit(user_seg[['recency']])\n",
    "user_seg['recency_cluster'] = kmeans.predict(user_seg[['recency']])\n",
    "elapsed_time = time.time() - start_time\n",
    "print(f\"Elapsed time: {elapsed_time:0.4f} seconds\")\n",
    "user_seg.groupby('recency_cluster').mean()"
   ]
  },
  {
   "cell_type": "markdown",
   "metadata": {
    "colab_type": "text",
    "id": "rwj3quH8hAys"
   },
   "source": [
    "Compare with the result from Sklearn kmeans clustering"
   ]
  },
  {
   "cell_type": "code",
   "execution_count": 22,
   "metadata": {
    "colab": {
     "base_uri": "https://localhost:8080/",
     "height": 204
    },
    "colab_type": "code",
    "id": "FB7LeLgbY8o1",
    "outputId": "a20faca9-b897-4c5c-a091-22ef083396f0"
   },
   "outputs": [
    {
     "data": {
      "text/html": [
       "<div>\n",
       "<style scoped>\n",
       "    .dataframe tbody tr th:only-of-type {\n",
       "        vertical-align: middle;\n",
       "    }\n",
       "\n",
       "    .dataframe tbody tr th {\n",
       "        vertical-align: top;\n",
       "    }\n",
       "\n",
       "    .dataframe thead th {\n",
       "        text-align: right;\n",
       "    }\n",
       "</style>\n",
       "<table border=\"1\" class=\"dataframe\">\n",
       "  <thead>\n",
       "    <tr style=\"text-align: right;\">\n",
       "      <th></th>\n",
       "      <th>customer_id</th>\n",
       "      <th>recency</th>\n",
       "      <th>frequency</th>\n",
       "      <th>revenue</th>\n",
       "    </tr>\n",
       "    <tr>\n",
       "      <th>recency_cluster</th>\n",
       "      <th></th>\n",
       "      <th></th>\n",
       "      <th></th>\n",
       "      <th></th>\n",
       "    </tr>\n",
       "  </thead>\n",
       "  <tbody>\n",
       "    <tr>\n",
       "      <th>0</th>\n",
       "      <td>18421.940416</td>\n",
       "      <td>51.878583</td>\n",
       "      <td>30.566048</td>\n",
       "      <td>16065.170883</td>\n",
       "    </tr>\n",
       "    <tr>\n",
       "      <th>1</th>\n",
       "      <td>16264.056180</td>\n",
       "      <td>114.649189</td>\n",
       "      <td>27.317104</td>\n",
       "      <td>14424.583021</td>\n",
       "    </tr>\n",
       "    <tr>\n",
       "      <th>2</th>\n",
       "      <td>20580.922689</td>\n",
       "      <td>10.408048</td>\n",
       "      <td>26.809606</td>\n",
       "      <td>14065.904659</td>\n",
       "    </tr>\n",
       "    <tr>\n",
       "      <th>3</th>\n",
       "      <td>15420.663812</td>\n",
       "      <td>197.695931</td>\n",
       "      <td>23.531049</td>\n",
       "      <td>12367.385439</td>\n",
       "    </tr>\n",
       "  </tbody>\n",
       "</table>\n",
       "</div>"
      ],
      "text/plain": [
       "                  customer_id     recency  frequency       revenue\n",
       "recency_cluster                                                   \n",
       "0                18421.940416   51.878583  30.566048  16065.170883\n",
       "1                16264.056180  114.649189  27.317104  14424.583021\n",
       "2                20580.922689   10.408048  26.809606  14065.904659\n",
       "3                15420.663812  197.695931  23.531049  12367.385439"
      ]
     },
     "execution_count": 22,
     "metadata": {},
     "output_type": "execute_result"
    }
   ],
   "source": [
    "#K means cluster based on recency, using KMeans from sklearn package\n",
    "kmeans = KMeans(n_clusters=4)\n",
    "kmeans.fit(user_seg[['recency']])\n",
    "user_seg['recency_cluster'] = kmeans.predict(user_seg[['recency']])\n",
    "\n",
    "user_seg.groupby('recency_cluster').mean()"
   ]
  },
  {
   "cell_type": "markdown",
   "metadata": {
    "colab_type": "text",
    "id": "Mae22UXbXwhP"
   },
   "source": [
    "Last two questions before you leave:\n",
    "1. Why the result from KMeans_self is different from the sklearn kmeans. \n",
    "- Hint: initialization part\n",
    "2. How to improve the runtime efficiency\n",
    "- Hint: smart initialization, K-D tree "
   ]
  }
 ],
 "metadata": {
  "colab": {
   "collapsed_sections": [],
   "name": "CLV and RFM Seg.ipynb",
   "provenance": [],
   "toc_visible": true
  },
  "kernelspec": {
   "display_name": "Python 3",
   "language": "python",
   "name": "python3"
  },
  "language_info": {
   "codemirror_mode": {
    "name": "ipython",
    "version": 3
   },
   "file_extension": ".py",
   "mimetype": "text/x-python",
   "name": "python",
   "nbconvert_exporter": "python",
   "pygments_lexer": "ipython3",
   "version": "3.7.6"
  }
 },
 "nbformat": 4,
 "nbformat_minor": 4
}
